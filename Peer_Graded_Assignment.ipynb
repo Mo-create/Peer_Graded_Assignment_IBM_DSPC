{
 "cells": [
  {
   "cell_type": "markdown",
   "id": "3ccd6087-d0ca-44f7-87f4-cd4c16dc92d4",
   "metadata": {},
   "source": [
    "<h1>My Jupyter Notebook on IBM Watson Studio</h1>"
   ]
  },
  {
   "cell_type": "markdown",
   "id": "9373e55b-07cd-4756-9dc5-f7287cb1a929",
   "metadata": {},
   "source": [
    "__Moritz Gross__ <br>\n",
    "desired occupation: Data Scientist (health care sector)"
   ]
  },
  {
   "cell_type": "markdown",
   "id": "30f4167a-9748-425b-b73e-4717064ec8a6",
   "metadata": {},
   "source": [
    "_I am interested in data science because, strangely enough, I find the process of transforming raw data into valuable insights really enjoyable!_"
   ]
  },
  {
   "cell_type": "markdown",
   "id": "2911ac58-ae15-411b-a226-3187982df9dc",
   "metadata": {},
   "source": [
    "<h3> The code in cell 5 creates a list \"a\" of whole numbers which are devisable by two.</h3>"
   ]
  },
  {
   "cell_type": "code",
   "execution_count": 2,
   "id": "1f685ffe-92ee-433e-8cb1-ab22c7f2b457",
   "metadata": {},
   "outputs": [
    {
     "name": "stdout",
     "output_type": "stream",
     "text": [
      "[0, 2, 4, 6, 8, 10]\n"
     ]
    }
   ],
   "source": [
    "a = []\n",
    "\n",
    "for i in range(0, 11):\n",
    "    if i % 2 == 0:\n",
    "        a.append(i)\n",
    "\n",
    "print(a)"
   ]
  },
  {
   "cell_type": "markdown",
   "id": "f4462c3a-ffa0-4955-b886-84be59358eb2",
   "metadata": {},
   "source": [
    "<hr>\n",
    "<ul>\n",
    "    <li>My</li>\n",
    "    <li>Jupyter</li>\n",
    "    <li>Notebook</li>\n",
    "</ul>\n",
    "\n",
    "|Header1|Header2|\n",
    "|-------|-------|\n",
    "|Cell|Cell|\n",
    "|Cell|Cell|\n",
    "|Cell|Cell|\n",
    "\n",
    "<blockquote>That was fun!</blockquote>"
   ]
  }
 ],
 "metadata": {
  "kernelspec": {
   "display_name": "Python",
   "language": "python",
   "name": "conda-env-python-py"
  },
  "language_info": {
   "codemirror_mode": {
    "name": "ipython",
    "version": 3
   },
   "file_extension": ".py",
   "mimetype": "text/x-python",
   "name": "python",
   "nbconvert_exporter": "python",
   "pygments_lexer": "ipython3",
   "version": "3.7.12"
  }
 },
 "nbformat": 4,
 "nbformat_minor": 5
}
